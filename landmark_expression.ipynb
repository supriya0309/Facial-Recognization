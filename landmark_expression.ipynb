{
 "cells": [
  {
   "cell_type": "code",
   "execution_count": null,
   "metadata": {},
   "outputs": [],
   "source": [
    "import cv2\n",
    "import dlib\n",
    "import numpy as np\n",
    "import os\n",
    "\n",
    "detector = dlib.get_frontal_face_detector()\n",
    "\n",
    "predictor = dlib.shape_predictor(\"../../datasets/shape_predictor_68_face_landmarks.dat\")\n",
    "\n",
    "cap = cv2.VideoCapture(0)\n",
    "\n",
    "mood = input(\"Enter your mood : \")\n",
    "\n",
    "frames = []\n",
    "outputs = []\n",
    "\n",
    "while True:\n",
    "\n",
    "    ret, frame = cap.read()\n",
    "    gray = cv2.cvtColor(frame, cv2.COLOR_BGR2GRAY)\n",
    "\n",
    "    faces = detector(gray)\n",
    "\n",
    "    for face in faces:\n",
    "        landmarks = predictor(gray, face)\n",
    "        # print(landmarks.parts())\n",
    "        nose = landmarks.parts()[27]\n",
    "        # print(nose.x, nose.y)\n",
    "\n",
    "        expression = np.array([[point.x - face.left(), point.y - face.top()] for point in landmarks.parts()[17:]])\n",
    "\n",
    "\n",
    "    # print(faces)\n",
    "\n",
    "    if ret:\n",
    "        cv2.imshow(\"My Screen\", frame)\n",
    "\n",
    "    key = cv2.waitKey(1)\n",
    "\n",
    "    if key == ord(\"q\"):\n",
    "        break\n",
    "    elif key == ord(\"c\"):\n",
    "        frames.append(expression.flatten())\n",
    "        outputs.append([mood])\n",
    "\n",
    "\n",
    "X = np.array(frames)\n",
    "y = np.array(outputs)\n",
    "\n",
    "data = np.hstack([y, X])\n",
    "\n",
    "f_name = \"face_data.npy\"\n",
    "\n",
    "if os.path.exists(f_name):\n",
    "    old = np.load(f_name)\n",
    "    data = np.vstack([old, data])\n",
    "\n",
    "np.save(f_name, data)\n",
    "\n",
    "cap.release()\n",
    "cv2.destroyAllWindows()"
   ]
  },
  {
   "cell_type": "code",
   "execution_count": null,
   "metadata": {},
   "outputs": [],
   "source": [
    "pip install dlib\n"
   ]
  },
  {
   "cell_type": "code",
   "execution_count": null,
   "metadata": {},
   "outputs": [],
   "source": []
  }
 ],
 "metadata": {
  "kernelspec": {
   "display_name": "Python 3",
   "language": "python",
   "name": "python3"
  },
  "language_info": {
   "codemirror_mode": {
    "name": "ipython",
    "version": 3
   },
   "file_extension": ".py",
   "mimetype": "text/x-python",
   "name": "python",
   "nbconvert_exporter": "python",
   "pygments_lexer": "ipython3",
   "version": "3.7.6"
  }
 },
 "nbformat": 4,
 "nbformat_minor": 4
}
